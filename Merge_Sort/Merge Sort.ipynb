{
 "cells": [
  {
   "cell_type": "markdown",
   "id": "2ffd08b4",
   "metadata": {},
   "source": [
    "# Multithreading"
   ]
  },
  {
   "cell_type": "markdown",
   "id": "3f6be1bd",
   "metadata": {},
   "source": [
    "## Implementing Merge Sort using multithreading"
   ]
  },
  {
   "cell_type": "code",
   "execution_count": 81,
   "id": "8386f737",
   "metadata": {},
   "outputs": [],
   "source": [
    "import threading\n",
    "import matplotlib.pyplot as plt\n",
    "import time\n",
    "import random"
   ]
  },
  {
   "cell_type": "code",
   "execution_count": 2,
   "id": "ea8de976",
   "metadata": {},
   "outputs": [],
   "source": [
    "#Since multithreading does not give a return statement we would have to modify merge sort to change \n",
    "#the array in place to sort it\n",
    "\n",
    "#Simple unmodified merge sort\n",
    "\n",
    "def simple_merge_sort(arr):\n",
    "    def merge_sort(arr):\n",
    "        if len(arr) <= 1:\n",
    "            return arr\n",
    "        \n",
    "        mid = len(arr) // 2\n",
    "        left_half = arr[:mid]\n",
    "        right_half = arr[mid:]\n",
    "        \n",
    "        left_half = merge_sort(left_half)\n",
    "        right_half = merge_sort(right_half)\n",
    "        \n",
    "        return merge(left_half, right_half)\n",
    "    \n",
    "    def merge(left, right):\n",
    "        result = []\n",
    "        left_idx, right_idx = 0, 0\n",
    "        while left_idx < len(left) and right_idx < len(right):\n",
    "            if left[left_idx] < right[right_idx]:\n",
    "                result.append(left[left_idx])\n",
    "                left_idx += 1\n",
    "            else:\n",
    "                result.append(right[right_idx])\n",
    "                right_idx += 1\n",
    "        \n",
    "        result.extend(left[left_idx:])\n",
    "        result.extend(right[right_idx:])\n",
    "        return result\n",
    "    \n",
    "    return merge_sort(arr)"
   ]
  },
  {
   "cell_type": "code",
   "execution_count": 3,
   "id": "b4c33561",
   "metadata": {},
   "outputs": [
    {
     "name": "stdout",
     "output_type": "stream",
     "text": [
      "[3, 5, 6, 7, 8, 10, 10]\n"
     ]
    }
   ],
   "source": [
    "#Modified merge sort without multithreading\n",
    "\n",
    "def modified_merge_sort(arr, start,end):\n",
    "    def merge(left_start, left_end, right_start, right_end, arr):\n",
    "        merged_arr = []\n",
    "        temp=left_start\n",
    "        while left_start < left_end and right_start < right_end:\n",
    "            if arr[left_start] < arr[right_start]:\n",
    "                merged_arr.append(arr[left_start])\n",
    "                left_start += 1\n",
    "            else:\n",
    "                merged_arr.append(arr[right_start])\n",
    "                right_start += 1\n",
    "        \n",
    "        merged_arr += arr[left_start:left_end]\n",
    "        merged_arr += arr[right_start:right_end]\n",
    "        arr[temp:right_end]=merged_arr\n",
    "        return\n",
    "    \n",
    "    def merge_sort(arr, start, end):\n",
    "        if (end-start) <= 1:\n",
    "            return\n",
    "        \n",
    "        mid = (end+start-1) // 2\n",
    "        \n",
    "        merge_sort(arr, start, mid+1)\n",
    "        merge_sort(arr, mid+1, end)\n",
    "        merge(start, mid+1, mid+1, end, arr)\n",
    "        return\n",
    "    \n",
    "    merge_sort(arr, start, end)\n",
    "\n",
    "arr = [10,5,6,3,7,8,10]\n",
    "modified_merge_sort(arr, 0, len(arr))\n",
    "print(arr)"
   ]
  },
  {
   "cell_type": "code",
   "execution_count": 4,
   "id": "5527b256",
   "metadata": {},
   "outputs": [],
   "source": [
    "#Modified Merge Sort using multithreading in place to use two threads for left and right merging\n",
    "\n",
    "def multi_mod_merge_sort(arr, start, end):\n",
    "    def merge(left_start, left_end, right_start, right_end, arr):\n",
    "        merged_arr = []\n",
    "        temp=left_start\n",
    "        while left_start < left_end and right_start < right_end:\n",
    "            if arr[left_start] < arr[right_start]:\n",
    "                merged_arr.append(arr[left_start])\n",
    "                left_start += 1\n",
    "            else:\n",
    "                merged_arr.append(arr[right_start])\n",
    "                right_start += 1\n",
    "        \n",
    "        merged_arr += arr[left_start:left_end]\n",
    "        merged_arr += arr[right_start:right_end]\n",
    "        arr[temp:right_end]=merged_arr\n",
    "        return\n",
    "    \n",
    "    def merge_sort(arr, start, end):\n",
    "        if (end-start) <= 1:\n",
    "            return\n",
    "        \n",
    "        mid = (end+start-1) // 2\n",
    "           \n",
    "        left_thread = threading.Thread(target=merge_sort, args=(arr, start, mid+1))\n",
    "        right_thread = threading.Thread(target=merge_sort, args=(arr, mid+1, end))\n",
    "        \n",
    "        #it then starts both the processes\n",
    "        left_thread.start()\n",
    "        right_thread.start()\n",
    "        \n",
    "        #we wait for both process to finish so we can start our merging\n",
    "        left_thread.join()\n",
    "        right_thread.join()\n",
    "        \n",
    "        merge(start, mid+1, mid+1, end, arr)\n",
    "        return\n",
    "    \n",
    "    merge_sort(arr, start,end)"
   ]
  },
  {
   "cell_type": "code",
   "execution_count": 45,
   "id": "9e8d1fcf",
   "metadata": {},
   "outputs": [
    {
     "name": "stdout",
     "output_type": "stream",
     "text": [
      "0.0307614803314209\n",
      "0.015061616897583008\n"
     ]
    }
   ],
   "source": [
    "random_list=[random.randint(1, 1000) for _ in range(8000)]\n",
    "length=len(random_list)\n",
    "\n",
    "start_time=time.time()\n",
    "simple_merge_sort(random_list.copy())\n",
    "simple_sort_time=time.time()-start_time\n",
    "\n",
    "start_time=time.time()\n",
    "modified_merge_sort(random_list.copy(), 0, length)\n",
    "modified_merge_sort_time=time.time()-start_time\n",
    "\n",
    "start_time=time.time()\n",
    "multi_mod_merge_sort(random_list.copy(), 0, length)\n",
    "multi_mod_merge_sort_time=time.time()-start_time\n",
    "\n",
    "print(simple_sort_time, end=\"\\n\")\n",
    "print(modified_merge_sort_time, end=\"\\n\")\n",
    "print(multi_mod_merge_sort_time)\n",
    "\n",
    "#As we can see this sorting method is not the right method"
   ]
  },
  {
   "cell_type": "code",
   "execution_count": 63,
   "id": "ab3b544e",
   "metadata": {},
   "outputs": [],
   "source": [
    "#Changing the merge sort to instead use multiple thread on different parts and then merge it\n",
    "\n",
    "def changed_threaded_merge_sort(arr, start, end, thread_num):\n",
    "    def merge(left_start, left_end, right_start, right_end, arr):\n",
    "        merged_arr = []\n",
    "        temp=left_start\n",
    "        while left_start < left_end and right_start < right_end:\n",
    "            if arr[left_start] < arr[right_start]:\n",
    "                merged_arr.append(arr[left_start])\n",
    "                left_start += 1\n",
    "            else:\n",
    "                merged_arr.append(arr[right_start])\n",
    "                right_start += 1\n",
    "        \n",
    "        merged_arr += arr[left_start:left_end]\n",
    "        merged_arr += arr[right_start:right_end]\n",
    "        arr[temp:right_end]=merged_arr\n",
    "        return\n",
    "    \n",
    "    def merge_sort(arr, start, end):\n",
    "        if (end-start) <= 1:\n",
    "            return\n",
    "        \n",
    "        mid = (end+start-1) // 2\n",
    "        \n",
    "        merge_sort(arr, start, mid+1)\n",
    "        merge_sort(arr, mid+1, end)\n",
    "        merge(start, mid+1, mid+1, end, arr)\n",
    "        return\n",
    "    \n",
    "    start=0\n",
    "    temp=end//thread_num\n",
    "    for i in range(thread_num-1):\n",
    "        t=threading.Thread(target=merge_sort, args=(arr, start, temp))\n",
    "        start=temp\n",
    "        temp+=(end//thread_num)\n",
    "        t.start()\n",
    "    t=threading.Thread(target=merge_sort, args=(arr, temp, end))\n",
    "    t.start()\n",
    "    \n",
    "    for i in range(thread_num):\n",
    "        t.join()\n",
    "    \n",
    "    start=0\n",
    "    temp=end//thread_num\n",
    "    start2=temp\n",
    "    temp2=temp+(end//thread_num)\n",
    "    for i in range(thread_num-2):\n",
    "        merge(start, temp, start2, temp2, arr)\n",
    "        temp=temp2\n",
    "        start2=temp2\n",
    "        temp2+=(end//thread_num)\n",
    "        \n",
    "    merge(start, temp, start2, end, arr)"
   ]
  },
  {
   "cell_type": "code",
   "execution_count": 78,
   "id": "314b0e1a",
   "metadata": {},
   "outputs": [
    {
     "name": "stdout",
     "output_type": "stream",
     "text": [
      "0.01804494857788086\n",
      "0.013956308364868164\n",
      "0.01399993896484375\n"
     ]
    }
   ],
   "source": [
    "#As we can see this becomes more effecient and is comparable to original sorting method\n",
    "\n",
    "random_list=[random.randint(1, 1000) for _ in range(8000)]\n",
    "length=len(random_list)\n",
    "\n",
    "start_time=time.time()\n",
    "simple_merge_sort(random_list.copy())\n",
    "simple_sort_time=time.time()-start_time\n",
    "\n",
    "start_time=time.time()\n",
    "modified_merge_sort(random_list.copy(), 0, length)\n",
    "modified_merge_sort_time=time.time()-start_time\n",
    "\n",
    "start_time=time.time()\n",
    "changed_threaded_merge_sort(random_list.copy(), 0, length, 4)\n",
    "changed_threaded_merge_sort_time=time.time()-start_time\n",
    "\n",
    "print(simple_sort_time, end=\"\\n\")\n",
    "print(modified_merge_sort_time, end=\"\\n\")\n",
    "print(changed_threaded_merge_sort_time)"
   ]
  },
  {
   "cell_type": "code",
   "execution_count": 91,
   "id": "57677634",
   "metadata": {},
   "outputs": [],
   "source": [
    "data={\"Simple\": 0, \"Modified\": 0, \"Multithreading\": 0}\n",
    "avg_time={\"Simple\": 0, \"Modified\": 0, \"Multithreading\": 0}\n",
    "\n",
    "for i in range(100):\n",
    "    random_list=[random.randint(1, 1000) for _ in range(8000)]\n",
    "    length=len(random_list)\n",
    "    \n",
    "    start_time=time.time()\n",
    "    simple_merge_sort(random_list.copy())\n",
    "    simple_sort_time=time.time()-start_time\n",
    "    avg_time[\"Simple\"]+=simple_sort_time\n",
    "    \n",
    "    start_time=time.time()\n",
    "    modified_merge_sort(random_list.copy(), 0, length)\n",
    "    modified_merge_sort_time=time.time()-start_time\n",
    "    avg_time[\"Modified\"]+=modified_merge_sort_time\n",
    "    \n",
    "    start_time=time.time()\n",
    "    changed_threaded_merge_sort(random_list.copy(), 0, length, 4)\n",
    "    changed_threaded_merge_sort_time=time.time()-start_time\n",
    "    avg_time[\"Multithreading\"]+=changed_threaded_merge_sort_time\n",
    "    \n",
    "    if changed_threaded_merge_sort_time<modified_merge_sort_time and changed_threaded_merge_sort_time<simple_sort_time:\n",
    "        data[\"Multithreading\"]+=1\n",
    "    elif modified_merge_sort_time<changed_threaded_merge_sort_time and modified_merge_sort_time<simple_sort_time:\n",
    "        data[\"Modified\"]+=1\n",
    "    else:\n",
    "        data[\"Simple\"]+=1\n"
   ]
  },
  {
   "cell_type": "code",
   "execution_count": 92,
   "id": "76a281ad",
   "metadata": {},
   "outputs": [
    {
     "data": {
      "image/png": "[encoded data removed]",
      "text/plain": [
       "<Figure size 640x480 with 1 Axes>"
      ]
     },
     "metadata": {},
     "output_type": "display_data"
    }
   ],
   "source": [
    "methods=list(data.keys())\n",
    "values=list(data.values())\n",
    "plt.bar(methods, values, color ='maroon', width = 0.4)\n",
    "plt.xlabel(\"Sorting Methods\")\n",
    "plt.ylabel(\"No. of times it is fastest\")\n",
    "plt.title(\"Sorting Methods with their fastest time\")\n",
    "plt.show()"
   ]
  },
  {
   "cell_type": "code",
   "execution_count": 93,
   "id": "6ec84a5c",
   "metadata": {},
   "outputs": [
    {
     "data": {
      "image/png": "[encoded data removed]",
      "text/plain": [
       "<Figure size 640x480 with 1 Axes>"
      ]
     },
     "metadata": {},
     "output_type": "display_data"
    }
   ],
   "source": [
    "avg_time[\"Simple\"]/=100\n",
    "avg_time[\"Modified\"]/=100\n",
    "avg_time[\"Multithreading\"]/=100\n",
    "\n",
    "methods2=list(avg_time.keys())\n",
    "values2=list(avg_time.values())\n",
    "plt.bar(methods2, values2, color ='blue', width = 0.4)\n",
    "plt.xlabel(\"Sorting Methods\")\n",
    "plt.ylabel(\"Average Time taken\")\n",
    "plt.title(\"Sorting Methods with their average time\")\n",
    "plt.show()"
   ]
  }
 ],
 "metadata": {
  "kernelspec": {
   "display_name": "Python 3 (ipykernel)",
   "language": "python",
   "name": "python3"
  },
  "language_info": {
   "codemirror_mode": {
    "name": "ipython",
    "version": 3
   },
   "file_extension": ".py",
   "mimetype": "text/x-python",
   "name": "python",
   "nbconvert_exporter": "python",
   "pygments_lexer": "ipython3",
   "version": "3.11.3"
  }
 },
 "nbformat": 4,
 "nbformat_minor": 5
}
