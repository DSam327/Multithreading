{
 "cells": [
  {
   "cell_type": "code",
   "execution_count": 62,
   "id": "fa5986b3",
   "metadata": {},
   "outputs": [],
   "source": [
    "import speech_recognition as sr\n",
    "import threading\n",
    "import time\n",
    "from os import path\n",
    "import ffmpeg\n",
    "from pydub import AudioSegment"
   ]
  },
  {
   "cell_type": "code",
   "execution_count": 63,
   "id": "62ad4bee",
   "metadata": {},
   "outputs": [],
   "source": [
    "def txt(output_file, fil1):\n",
    "    r=sr.Recognizer()\n",
    "    \n",
    "    with sr.AudioFile(output_file) as source:\n",
    "        output_file = r.record(source)\n",
    "        \n",
    "    try:\n",
    "        text = r.recognize_google(output_file)\n",
    "        text+=\"\\n\\n\"\n",
    "        with open(fil1, \"a\") as file1:\n",
    "            file1.write(text)\n",
    "        \n",
    "    except Exception as e:\n",
    "        print (e)"
   ]
  },
  {
   "cell_type": "code",
   "execution_count": 64,
   "id": "062ccbeb",
   "metadata": {},
   "outputs": [],
   "source": [
    "def normal_converting(paths, fil1):\n",
    "    for i in paths:\n",
    "        txt(i, fil1)"
   ]
  },
  {
   "cell_type": "code",
   "execution_count": 78,
   "id": "2002f7f9",
   "metadata": {},
   "outputs": [],
   "source": [
    "def changed_converting(paths, fil1, start, end):\n",
    "    for i in range(start, end):\n",
    "        txt(paths[i], fil1)\n",
    "\n",
    "def multi_converting(paths, threads_num, fil_name):\n",
    "    start=0\n",
    "    end=len(paths)\n",
    "    temp=end//threads_num\n",
    "    threads=[]\n",
    "    for i in range(threads_num-1):\n",
    "        threads.append(threading.Thread(target=changed_converting, args=(paths, fil_name[i], start,temp)))\n",
    "        start=temp\n",
    "        temp+=end//threads_num\n",
    "        threads[-1].start()\n",
    "    threads.append(threading.Thread(target=changed_converting, args=(paths, fil_name[-1], start, end)))\n",
    "    threads[-1].start()\n",
    "    \n",
    "    for i in threads:\n",
    "        i.join()\n",
    "    return"
   ]
  },
  {
   "cell_type": "code",
   "execution_count": 66,
   "id": "8450a85a",
   "metadata": {},
   "outputs": [],
   "source": [
    "paths=[r\"C:\\Users\\HP\\Downloads\\compressed\\call-about-the-job.wav\", r\"C:\\Users\\HP\\Downloads\\compressed\\I-am-happy-today.wav\" \n",
    "       , r\"C:\\Users\\HP\\Downloads\\compressed\\i-want-to-work-2.wav\", r\"C:\\Users\\HP\\Downloads\\compressed\\phone-call-about-work.wav\",\n",
    "      r\"C:\\Users\\HP\\Downloads\\compressed\\the-boss-will-call.wav\", r\"C:\\Users\\HP\\Downloads\\compressed\\work-application.wav\"]"
   ]
  },
  {
   "cell_type": "code",
   "execution_count": 32,
   "id": "675d501d",
   "metadata": {},
   "outputs": [],
   "source": [
    "paths=[r\"C:\\Users\\HP\\Downloads\\compressed\\call-about-the-job.wav\", r\"C:\\Users\\HP\\Downloads\\compressed\\I-am-happy-today.wav\" \n",
    "       , r\"C:\\Users\\HP\\Downloads\\compressed\\i-want-to-work-2.wav\", r\"C:\\Users\\HP\\Downloads\\compressed\\phone-call-about-work.wav\",\n",
    "      r\"C:\\Users\\HP\\Downloads\\compressed\\the-boss-will-call.wav\", r\"C:\\Users\\HP\\Downloads\\compressed\\work-application.wav\"]\n",
    "file1=r\"C:\\Users\\HP\\Downloads\\Normal_conversion.txt\"\n",
    "\n",
    "start_time=time.time()\n",
    "normal_converting(paths, file1)\n",
    "normal_time=time.time()-start_time"
   ]
  },
  {
   "cell_type": "code",
   "execution_count": 22,
   "id": "92221594",
   "metadata": {},
   "outputs": [
    {
     "name": "stdout",
     "output_type": "stream",
     "text": [
      "108.23927521705627\n"
     ]
    }
   ],
   "source": []
  },
  {
   "cell_type": "code",
   "execution_count": 79,
   "id": "d15769c5",
   "metadata": {},
   "outputs": [
    {
     "name": "stdout",
     "output_type": "stream",
     "text": [
      "6\n"
     ]
    }
   ],
   "source": [
    "fil_name=[r\"C:\\Users\\HP\\Downloads\\Files\\Fil1.txt\", r\"C:\\Users\\HP\\Downloads\\Files\\Fil2.txt\", \n",
    "          r\"C:\\Users\\HP\\Downloads\\Files\\Fil3.txt\"]\n",
    "\n",
    "start_time=time.time()\n",
    "multi_converting(paths, 3, fil_name)\n",
    "multi_converting_time=time.time()-start_time"
   ]
  },
  {
   "cell_type": "code",
   "execution_count": 75,
   "id": "5b29f69d",
   "metadata": {},
   "outputs": [
    {
     "name": "stdout",
     "output_type": "stream",
     "text": [
      "31.380947589874268\n"
     ]
    }
   ],
   "source": [
    "print(multi_converting_time)"
   ]
  }
 ],
 "metadata": {
  "kernelspec": {
   "display_name": "Python 3 (ipykernel)",
   "language": "python",
   "name": "python3"
  },
  "language_info": {
   "codemirror_mode": {
    "name": "ipython",
    "version": 3
   },
   "file_extension": ".py",
   "mimetype": "text/x-python",
   "name": "python",
   "nbconvert_exporter": "python",
   "pygments_lexer": "ipython3",
   "version": "3.11.3"
  }
 },
 "nbformat": 4,
 "nbformat_minor": 5
}
